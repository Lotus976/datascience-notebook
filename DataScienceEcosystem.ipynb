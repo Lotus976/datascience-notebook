{
 "cells": [
  {
   "cell_type": "markdown",
   "id": "6afa4671-9984-4a69-8a99-ffc2e6ba0146",
   "metadata": {},
   "source": [
    "Markdown"
   ]
  },
  {
   "cell_type": "markdown",
   "id": "c156bcb0-310a-49cf-8a23-06f2da7ac358",
   "metadata": {},
   "source": [
    "# Data Science Tools and Ecosystem"
   ]
  },
  {
   "cell_type": "markdown",
   "id": "cf29a353-4308-48c6-980f-dfec3308cec4",
   "metadata": {},
   "source": [
    "In this notebook, Data Science Tools and Ecosystem are summarized."
   ]
  },
  {
   "cell_type": "markdown",
   "id": "88e5eeb4-ce68-47a7-b7de-d11ccf6bf318",
   "metadata": {},
   "source": [
    "\n",
    "**Objectives:**\n",
    "\n",
    "\n",
    "- List popular languages for Data Science\n",
    "\n",
    "- List commonly used libraries in Data Science\n",
    "\n",
    "- Create tables using markdown\n",
    "\n",
    "- Perform arithmetic operations in Python\n",
    "\n",
    "- Convert minutes to hours using Python expressions"
   ]
  },
  {
   "cell_type": "markdown",
   "id": "06e7788d-8daa-4375-a73c-9e3087ca2c94",
   "metadata": {},
   "source": [
    "Some of the popular languages that Data Scientists use are:\n",
    "\n",
    "1. Python\n",
    "\n",
    "2. R\n",
    "\n",
    "3. SQL\n",
    "\n",
    "4. Julia\n",
    "\n",
    "5. Scala\n"
   ]
  },
  {
   "cell_type": "markdown",
   "id": "8c2239c3-33b3-4151-a487-b5eb4e03c2cb",
   "metadata": {},
   "source": [
    "Some of the commonly used libraries used by Data Scientists include:\n",
    "\n",
    "1. NumPy\n",
    "\n",
    "2. Pandas\n",
    "\n",
    "3. Matplotlib\n",
    "\n",
    "4. Scikit_learn\n",
    "\n",
    "5. TensorFlow"
   ]
  },
  {
   "cell_type": "markdown",
   "id": "e56f8e8f-4ab0-49db-aca1-2c2cfc8eb7bd",
   "metadata": {},
   "source": [
    "  ---------------------\n",
    " \n",
    " ### Data Science Tools  \n",
    " \n",
    "  ---------------------\n",
    "\n",
    "  Jupyter Notebook \n",
    "\n",
    "  ---------------------\n",
    "\n",
    "  RStudio               \n",
    "\n",
    "  ---------------------\n",
    "  \n",
    "  Visual Studio Code \n",
    "\n",
    "  ---------------------"
   ]
  },
  {
   "cell_type": "markdown",
   "id": "fb9305da-0c2c-4f64-b2b4-af6f464428dc",
   "metadata": {},
   "source": [
    "### Below are a few examples of evaluating arithmetic expressions in Python\n",
    "\n"
   ]
  },
  {
   "cell_type": "markdown",
   "id": "13cb6478-ea7b-4717-a962-04037a9c4c8b",
   "metadata": {},
   "source": [
    "Python"
   ]
  },
  {
   "cell_type": "code",
   "execution_count": 1,
   "id": "f3e3ea2a-9a5f-49c2-9977-20e9666a59ff",
   "metadata": {
    "scrolled": true
   },
   "outputs": [
    {
     "data": {
      "text/plain": [
       "17"
      ]
     },
     "execution_count": 1,
     "metadata": {},
     "output_type": "execute_result"
    }
   ],
   "source": [
    "# This is a simple arithmetic expression to multiply then add integers\n",
    "\n",
    "(3 * 5) + 2"
   ]
  },
  {
   "cell_type": "code",
   "execution_count": 2,
   "id": "35d1c079-3115-42d1-8141-43c6c7f708dc",
   "metadata": {},
   "outputs": [
    {
     "data": {
      "text/plain": [
       "3.3333333333333335"
      ]
     },
     "execution_count": 2,
     "metadata": {},
     "output_type": "execute_result"
    }
   ],
   "source": [
    "\n",
    "# This will convert  200  minutes to hours by diving by  60\n",
    "\n",
    "200 / 60"
   ]
  },
  {
   "cell_type": "markdown",
   "id": "4dadf215-1f53-4831-9605-6864f2e5f320",
   "metadata": {},
   "source": [
    "\n",
    "\n",
    "** Objectiveas:**\n",
    "\n",
    "-  List popular languages for Data Science\n",
    "  \n",
    "-  List commonly used libraries in Data Science\n",
    "\n",
    "-  Create tables using markdown\n",
    "\n",
    "-  Perform arithmetic operations in Python\n",
    "\n",
    "-  Convert minutes to hours using Python expressions\n",
    "\n"
   ]
  },
  {
   "cell_type": "code",
   "execution_count": null,
   "id": "876144a1-8c33-48b3-9eb9-96e68d11d993",
   "metadata": {},
   "outputs": [],
   "source": []
  },
  {
   "cell_type": "markdown",
   "id": "c47e0b77-1b53-4021-85e0-4e2c99953d59",
   "metadata": {},
   "source": [
    "\n",
    "\n",
    "## Author\n",
    "\n",
    " Huriye Şengül\n",
    " "
   ]
  }
 ],
 "metadata": {
  "kernelspec": {
   "display_name": "Python 3 (ipykernel)",
   "language": "python",
   "name": "python3"
  },
  "language_info": {
   "codemirror_mode": {
    "name": "ipython",
    "version": 3
   },
   "file_extension": ".py",
   "mimetype": "text/x-python",
   "name": "python",
   "nbconvert_exporter": "python",
   "pygments_lexer": "ipython3",
   "version": "3.12.8"
  }
 },
 "nbformat": 4,
 "nbformat_minor": 5
}
